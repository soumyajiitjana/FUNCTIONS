{
  "nbformat": 4,
  "nbformat_minor": 0,
  "metadata": {
    "colab": {
      "provenance": []
    },
    "kernelspec": {
      "name": "python3",
      "display_name": "Python 3"
    },
    "language_info": {
      "name": "python"
    }
  },
  "cells": [
    {
      "cell_type": "code",
      "execution_count": null,
      "metadata": {
        "id": "u0yPyoNakmGx"
      },
      "outputs": [],
      "source": []
    },
    {
      "cell_type": "markdown",
      "source": [
        "1. What is the difference between a function and a method in Python?\n",
        "\n",
        ".Difference Between a Function and a Method in Python\n",
        "\n",
        "A function is a block of reusable code defined using the def keyword and can be called independently.\n",
        "A method is a function that belongs to an object and is called on that object using dot notation (e.g., object.method()). Methods are typically defined inside classes.\n",
        "\n",
        "\n",
        "2. Explain the concept of function arguments and parameters in Python.\n",
        "Function Arguments and Parameters in Python\n",
        "\n",
        "Parameters are variables listed in a function definition (e.g., def func(x, y): → x and y are parameters).\n",
        "Arguments are actual values passed to a function when calling it (e.g., func(2, 3) → 2 and 3 are arguments).\n",
        "\n",
        "3. What are the different ways to define and call a function in Python?\n",
        ".Define using def:\n",
        "python\n",
        "Copy\n",
        "Edit\n",
        "def add(a, b):\n",
        "    return a + b\n",
        "Call using function name:\n",
        "python\n",
        "Copy\n",
        "Edit\n",
        "result = add(3, 5)\n",
        "Use lambda functions:\n",
        "python\n",
        "Copy\n",
        "Edit\n",
        "add = lambda a, b: a + b\n",
        "print(add(3, 5))\n",
        "\n",
        "4. What is the purpose of the `return` statement in a Python function?\n",
        "Purpose of the return Statement in a Function\n",
        "\n",
        "The return statement is used to send a value back from a function. Without return, the function returns None by default.\n",
        "\n",
        "def square(n):\n",
        "    return n * n\n",
        "\n",
        "5. What are iterators in Python and how do they differ from iterables?\n",
        "Iterators vs. Iterables in Python\n",
        "\n",
        "Iterable: An object capable of returning its elements one at a time (e.g., lists, tuples, strings). It implements the __iter__() method.\n",
        "Iterator: An object that keeps track of state during iteration and implements __next__() to get the next item.\n",
        "\n",
        "Example:\n",
        "\n",
        "my_list = [1, 2, 3]  # Iterable\n",
        "iterator = iter(my_list)  # Creating an iterator\n",
        "print(next(iterator))  \n",
        "\n",
        "6. Explain the concept of generators in Python and how they are defined.\n",
        "Concept of Generators in Python\n",
        "\n",
        "A generator is a special function that uses yield instead of return, allowing iteration without storing all values in memory.\n",
        "Example:\n",
        "\n",
        "def count_up_to(n):\n",
        "    count = 1\n",
        "    while count <= n:\n",
        "        yield count\n",
        "        count += 1\n",
        "\n",
        "7. What are the advantages of using generators over regular functions?\n",
        "Advantages of Generators Over Regular Functions\n",
        "\n",
        "Saves memory (doesn't store all values at once).\n",
        "Improves performance with lazy evaluation.\n",
        "Can generate infinite sequences.\n",
        "\n",
        "8. What is a lambda function in Python and when is it typically used?\n",
        "Lambda Function in Python\n",
        "\n",
        "A lambda function is an anonymous function defined using lambda keyword. It's useful for short, one-time-use functions.\n",
        "Example:\n",
        "\n",
        "square = lambda x: x * x\n",
        "print(square(4))  \n",
        "\n",
        "9. Explain the purpose and usage of the `map()` function in Python.\n",
        "Purpose and Usage of map() Function\n",
        "\n",
        "map() applies a function to every element in an iterable.\n",
        "Example:\n",
        "\n",
        "numbers = [1, 2, 3, 4]\n",
        "squared = list(map(lambda x: x**2, numbers))\n",
        "print(squared)  \n",
        "\n",
        "10. What is the difference between `map()`, `reduce()`, and `filter()` functions in Python?\n",
        "\n",
        "Difference Between map(), reduce(), and filter()\n",
        "\n",
        "map(function, iterable): Applies a function to each item.\n",
        "reduce(function, iterable): Reduces iterable to a single value by applying a function cumulatively (from functools module).\n",
        "filter(function, iterable): Filters elements based on a condition.\n",
        "Example:\n",
        "\n",
        "python\n",
        "Copy\n",
        "Edit\n",
        "from functools import reduce\n",
        "\n",
        "nums = [1, 2, 3, 4, 5]\n",
        "\n",
        "# map example (square each element)\n",
        "print(list(map(lambda x: x**2, nums)))  \n",
        "\n",
        "# filter example (keep only even numbers)\n",
        "print(list(filter(lambda x: x % 2 == 0, nums)))  \n",
        "\n",
        "# reduce example (sum all numbers)\n",
        "print(reduce(lambda x, y: x + y, nums))  \n",
        "\n",
        "\n"
      ],
      "metadata": {
        "id": "ZRsUnOuvkmxD"
      }
    },
    {
      "cell_type": "markdown",
      "source": [
        "1.\n"
      ],
      "metadata": {
        "id": "qc6j0KRPmN46"
      }
    },
    {
      "cell_type": "code",
      "source": [
        "def sum_even_numbers(numbers):\n",
        "    return sum(num for num in numbers if num % 2 == 0)\n",
        "\n",
        "# Example usage:\n",
        "nums = [1, 2, 3, 4, 5, 6]\n",
        "print(sum_even_numbers(nums))\n"
      ],
      "metadata": {
        "colab": {
          "base_uri": "https://localhost:8080/"
        },
        "id": "Ggq-pXPtl9dK",
        "outputId": "1a20ddc4-cf7d-4baa-93ad-d6416b315b52"
      },
      "execution_count": 1,
      "outputs": [
        {
          "output_type": "stream",
          "name": "stdout",
          "text": [
            "12\n"
          ]
        }
      ]
    },
    {
      "cell_type": "markdown",
      "source": [
        "2."
      ],
      "metadata": {
        "id": "bXOfRrbdmhJb"
      }
    },
    {
      "cell_type": "code",
      "source": [
        "def reverse_string(s):\n",
        "    return s[::-1]  # Slicing method to reverse the string\n",
        "\n",
        "# Example usage:\n",
        "text = \"Hello, World!\"\n",
        "print(reverse_string(text))\n"
      ],
      "metadata": {
        "colab": {
          "base_uri": "https://localhost:8080/"
        },
        "id": "PDHO3QuVmk1b",
        "outputId": "61feb088-eef5-4fb3-b994-3d777e5ff09d"
      },
      "execution_count": 2,
      "outputs": [
        {
          "output_type": "stream",
          "name": "stdout",
          "text": [
            "!dlroW ,olleH\n"
          ]
        }
      ]
    },
    {
      "cell_type": "markdown",
      "source": [
        "3."
      ],
      "metadata": {
        "id": "LzsbTDCrmsqL"
      }
    },
    {
      "cell_type": "code",
      "source": [
        "def square_numbers(numbers):\n",
        "    return [num ** 2 for num in numbers]  # List comprehension to square each number\n",
        "\n",
        "# Example usage:\n",
        "nums = [1, 2, 3, 4, 5]\n",
        "print(square_numbers(nums))\n"
      ],
      "metadata": {
        "colab": {
          "base_uri": "https://localhost:8080/"
        },
        "id": "DXYMspEVmuYT",
        "outputId": "d249dbda-8100-4358-c8e2-c1d65875d9f4"
      },
      "execution_count": 3,
      "outputs": [
        {
          "output_type": "stream",
          "name": "stdout",
          "text": [
            "[1, 4, 9, 16, 25]\n"
          ]
        }
      ]
    },
    {
      "cell_type": "markdown",
      "source": [
        "4"
      ],
      "metadata": {
        "id": "iApNcdKT_n4L"
      }
    },
    {
      "cell_type": "code",
      "source": [
        "def is_prime(n):\n",
        "    if n < 2:\n",
        "        return False  # 0 and 1 are not prime numbers\n",
        "    for i in range(2, int(n ** 0.5) + 1):  # Check divisibility up to sqrt(n)\n",
        "        if n % i == 0:\n",
        "            return False\n",
        "    return True\n",
        "\n",
        "# Example usage: Checking prime numbers from 1 to 200\n",
        "prime_numbers = [num for num in range(1, 201) if is_prime(num)]\n",
        "print(prime_numbers)\n"
      ],
      "metadata": {
        "colab": {
          "base_uri": "https://localhost:8080/"
        },
        "id": "i1nnwKzT_o0a",
        "outputId": "d099066c-edd1-4a7a-92bc-cd543546d167"
      },
      "execution_count": 4,
      "outputs": [
        {
          "output_type": "stream",
          "name": "stdout",
          "text": [
            "[2, 3, 5, 7, 11, 13, 17, 19, 23, 29, 31, 37, 41, 43, 47, 53, 59, 61, 67, 71, 73, 79, 83, 89, 97, 101, 103, 107, 109, 113, 127, 131, 137, 139, 149, 151, 157, 163, 167, 173, 179, 181, 191, 193, 197, 199]\n"
          ]
        }
      ]
    },
    {
      "cell_type": "markdown",
      "source": [
        "5"
      ],
      "metadata": {
        "id": "ehLpbE_6ANgb"
      }
    },
    {
      "cell_type": "code",
      "source": [
        "class FibonacciIterator:\n",
        "    def __init__(self, n_terms):\n",
        "        self.n_terms = n_terms  # Total terms to generate\n",
        "        self.a, self.b = 0, 1  # First two Fibonacci numbers\n",
        "        self.count = 0  # Counter for tracking iterations\n",
        "\n",
        "    def __iter__(self):\n",
        "        return self  # An iterator must return itself\n",
        "\n",
        "    def __next__(self):\n",
        "        if self.count >= self.n_terms:\n",
        "            raise StopIteration  # Stop when the limit is reached\n",
        "\n",
        "        if self.count == 0:\n",
        "            self.count += 1\n",
        "            return self.a  # Return 0 for the first term\n",
        "        elif self.count == 1:\n",
        "            self.count += 1\n",
        "            return self.b  # Return 1 for the second term\n",
        "        else:\n",
        "            fib = self.a + self.b  # Compute the next Fibonacci number\n",
        "            self.a, self.b = self.b, fib  # Update values\n",
        "            self.count += 1\n",
        "            return fib\n",
        "\n",
        "# Example usage:\n",
        "fib_iter = FibonacciIterator(10)\n",
        "print(list(fib_iter))\n",
        "\n",
        "\n",
        "\n"
      ],
      "metadata": {
        "colab": {
          "base_uri": "https://localhost:8080/"
        },
        "id": "6hQd4KPuAOp0",
        "outputId": "43c4f3a3-d4e6-4474-d837-8f4a4d376b67"
      },
      "execution_count": 10,
      "outputs": [
        {
          "output_type": "stream",
          "name": "stdout",
          "text": [
            "[0, 1, 1, 2, 3, 5, 8, 13, 21, 34]\n"
          ]
        }
      ]
    },
    {
      "cell_type": "markdown",
      "source": [
        "6"
      ],
      "metadata": {
        "id": "papWDckdAoEc"
      }
    },
    {
      "cell_type": "code",
      "source": [
        "def powers_of_two(exp):\n",
        "    for i in range(exp + 1):\n",
        "        yield 2 ** i  # Yield powers of 2\n",
        "\n",
        "# Example usage:\n",
        "for num in powers_of_two(5):\n",
        "    print(num)\n"
      ],
      "metadata": {
        "colab": {
          "base_uri": "https://localhost:8080/"
        },
        "id": "mAEqKJ2JApUT",
        "outputId": "8c49c781-3b09-4598-f8a8-67dd2662954f"
      },
      "execution_count": 13,
      "outputs": [
        {
          "output_type": "stream",
          "name": "stdout",
          "text": [
            "1\n",
            "2\n",
            "4\n",
            "8\n",
            "16\n",
            "32\n"
          ]
        }
      ]
    },
    {
      "cell_type": "markdown",
      "source": [
        "7"
      ],
      "metadata": {
        "id": "3n65F7y1A1Hb"
      }
    },
    {
      "cell_type": "code",
      "source": [
        "def read_file_lines(filename):\n",
        "    with open(filename, \"r\") as file:\n",
        "        for line in file:\n",
        "            yield line.strip()  # Yield each line without extra whitespace\n",
        "\n",
        "# Example usage:\n",
        "# for line in read_file_lines(\"example.txt\"):\n",
        "#     print(line)\n",
        "\n"
      ],
      "metadata": {
        "id": "ehUvOX90A16T"
      },
      "execution_count": 20,
      "outputs": []
    },
    {
      "cell_type": "markdown",
      "source": [
        "8"
      ],
      "metadata": {
        "id": "FEAj2yQFBDET"
      }
    },
    {
      "cell_type": "code",
      "source": [
        "tuples_list = [(1, 3), (4, 1), (2, 5), (7, 2)]\n",
        "sorted_list = sorted(tuples_list, key=lambda x: x[1])  # Sort by second element\n",
        "\n",
        "print(sorted_list)  # Output: [(4, 1), (7, 2), (1, 3), (2, 5)]\n"
      ],
      "metadata": {
        "colab": {
          "base_uri": "https://localhost:8080/"
        },
        "id": "KJQfz0E-BD4T",
        "outputId": "3f474a06-ed72-49bc-88e6-b1da403a55f1"
      },
      "execution_count": 21,
      "outputs": [
        {
          "output_type": "stream",
          "name": "stdout",
          "text": [
            "[(4, 1), (7, 2), (1, 3), (2, 5)]\n"
          ]
        }
      ]
    },
    {
      "cell_type": "markdown",
      "source": [
        "9"
      ],
      "metadata": {
        "id": "Z5Zb7SHqBF0j"
      }
    },
    {
      "cell_type": "code",
      "source": [
        "celsius = [0, 10, 20, 30, 40]\n",
        "fahrenheit = list(map(lambda c: (c * 9/5) + 32, celsius))\n",
        "\n",
        "print(fahrenheit)  # Output: [32.0, 50.0, 68.0, 86.0, 104.0]\n"
      ],
      "metadata": {
        "colab": {
          "base_uri": "https://localhost:8080/"
        },
        "id": "Jby6C8w8BGe7",
        "outputId": "644ad024-4ecb-400b-925c-e4105a830568"
      },
      "execution_count": 22,
      "outputs": [
        {
          "output_type": "stream",
          "name": "stdout",
          "text": [
            "[32.0, 50.0, 68.0, 86.0, 104.0]\n"
          ]
        }
      ]
    },
    {
      "cell_type": "markdown",
      "source": [
        "10"
      ],
      "metadata": {
        "id": "BYXFEloeBIhT"
      }
    },
    {
      "cell_type": "code",
      "source": [
        "def remove_vowels(string):\n",
        "    return \"\".join(filter(lambda ch: ch.lower() not in \"aeiou\", string))\n",
        "\n",
        "# Example usage:\n",
        "text = \"Hello, World!\"\n",
        "print(remove_vowels(text))  # Output: \"Hll, Wrld!\"\n"
      ],
      "metadata": {
        "colab": {
          "base_uri": "https://localhost:8080/"
        },
        "id": "h9lhCm3VBJeT",
        "outputId": "34decf0e-f3cd-427a-84fe-078455b7674a"
      },
      "execution_count": 23,
      "outputs": [
        {
          "output_type": "stream",
          "name": "stdout",
          "text": [
            "Hll, Wrld!\n"
          ]
        }
      ]
    }
  ]
}